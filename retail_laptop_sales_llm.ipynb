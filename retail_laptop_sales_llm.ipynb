{
 "cells": [
  {
   "cell_type": "code",
   "execution_count": 1,
   "id": "60ea4356-c5de-4a82-8c72-0cb2f3730ef6",
   "metadata": {},
   "outputs": [],
   "source": [
    "import os\n",
    "from langchain_google_genai import GoogleGenerativeAI\n",
    "if 'GOOGLE_API_KEY' in os.environ:\n",
    "    GOOGLE_API_KEY = os.environ['GOOGLE_API_KEY'] "
   ]
  },
  {
   "cell_type": "code",
   "execution_count": 2,
   "id": "dee38f5a",
   "metadata": {},
   "outputs": [],
   "source": [
    "llm = GoogleGenerativeAI(model='gemini-pro',google_api_key=GOOGLE_API_KEY,temperature=0.2)\n",
    "#llm.invoke(\"Give one line saying about AI\")\n",
    "from langchain.utilities import SQLDatabase\n",
    "db_user = 'root'\n",
    "db_password = 'password'\n",
    "db_host = 'localhost'\n",
    "db_name = 'neptech_store'\n",
    "db = SQLDatabase.from_uri(f\"mysql+pymysql://{db_user}:{db_password}@{db_host}/{db_name}\",sample_rows_in_table_info=3)"
   ]
  },
  {
   "cell_type": "code",
   "execution_count": 3,
   "id": "9d223bc7",
   "metadata": {},
   "outputs": [
    {
     "data": {
      "text/plain": [
       "\"\\nCREATE TABLE laptop_discounts (\\n\\tdiscount_id INTEGER NOT NULL AUTO_INCREMENT, \\n\\tlaptop_id INTEGER NOT NULL, \\n\\tpct_discount DECIMAL(5, 2), \\n\\tPRIMARY KEY (discount_id), \\n\\tCONSTRAINT laptop_discounts_ibfk_1 FOREIGN KEY(laptop_id) REFERENCES laptops (laptop_id), \\n\\tCONSTRAINT laptop_discounts_chk_1 CHECK ((`pct_discount` between 0 and 100))\\n)DEFAULT CHARSET=utf8mb4 ENGINE=InnoDB COLLATE utf8mb4_0900_ai_ci\\n\\n/*\\n3 rows from laptop_discounts table:\\ndiscount_id\\tlaptop_id\\tpct_discount\\n1\\t1\\t10.00\\n2\\t2\\t20.00\\n3\\t3\\t15.00\\n*/\\n\\n\\nCREATE TABLE laptops (\\n\\tlaptop_id INTEGER NOT NULL AUTO_INCREMENT, \\n\\tbrand ENUM('Dell','HP','Lenovo','Apple','Asus') NOT NULL, \\n\\tprocessor ENUM('i3','i5','i7','Ryzen 5','Ryzen 7') NOT NULL, \\n\\tram ENUM('4GB','8GB','16GB','32GB') NOT NULL, \\n\\tstorage ENUM('256GB SSD','512GB SSD','1TB SSD','1TB HDD') NOT NULL, \\n\\tprice INTEGER, \\n\\tstock_quantity INTEGER NOT NULL, \\n\\tPRIMARY KEY (laptop_id), \\n\\tCONSTRAINT laptops_chk_1 CHECK ((`price` between 300 and 2000))\\n)DEFAULT CHARSET=utf8mb4 ENGINE=InnoDB COLLATE utf8mb4_0900_ai_ci\\n\\n/*\\n3 rows from laptops table:\\nlaptop_id\\tbrand\\tprocessor\\tram\\tstorage\\tprice\\tstock_quantity\\n1\\tAsus\\ti5\\t8GB\\t512GB SSD\\t635\\t75\\n2\\tDell\\tRyzen 7\\t32GB\\t256GB SSD\\t324\\t84\\n3\\tDell\\tRyzen 5\\t16GB\\t512GB SSD\\t1185\\t42\\n*/\""
      ]
     },
     "execution_count": 3,
     "metadata": {},
     "output_type": "execute_result"
    }
   ],
   "source": [
    "db.table_info"
   ]
  },
  {
   "cell_type": "code",
   "execution_count": 4,
   "id": "00d98a5d",
   "metadata": {},
   "outputs": [],
   "source": [
    "from langchain_experimental.sql import SQLDatabaseChain\n",
    "db_chain =SQLDatabaseChain.from_llm(llm=llm,db=db,verbose=True)"
   ]
  },
  {
   "cell_type": "code",
   "execution_count": 5,
   "id": "1a272bac",
   "metadata": {},
   "outputs": [
    {
     "name": "stdout",
     "output_type": "stream",
     "text": [
      "\n",
      "\n",
      "\u001b[1m> Entering new SQLDatabaseChain chain...\u001b[0m\n",
      "how many Dell brand laptops are there?The SQL query should be outputted plainly, do not surround SQL Query in quotes or anything else.\n",
      "SQLQuery:\u001b[32;1m\u001b[1;3mSELECT COUNT(*) AS `Dell_brand_laptops` \n",
      "FROM laptops \n",
      "WHERE brand = 'Dell';\u001b[0m\n",
      "SQLResult: \u001b[33;1m\u001b[1;3m[(14,)]\u001b[0m\n",
      "Answer:\u001b[32;1m\u001b[1;3m14\u001b[0m\n",
      "\u001b[1m> Finished chain.\u001b[0m\n",
      "{'query': 'how many Dell brand laptops are there?The SQL query should be outputted plainly, do not surround SQL Query in quotes or anything else.', 'result': '14'}\n"
     ]
    }
   ],
   "source": [
    "result = db_chain.invoke(\"how many Dell brand laptops are there?The SQL query should be outputted plainly, do not surround SQL Query in quotes or anything else.\")\n",
    "print(result)"
   ]
  },
  {
   "cell_type": "code",
   "execution_count": 23,
   "id": "26467f24",
   "metadata": {},
   "outputs": [
    {
     "name": "stdout",
     "output_type": "stream",
     "text": [
      "\n",
      "\n",
      "\u001b[1m> Entering new SQLDatabaseChain chain...\u001b[0m\n",
      "How many unique brands are there? list them.do not surround SQL Query in quotes or anything else.\n",
      "SQLQuery:\u001b[32;1m\u001b[1;3mSELECT COUNT(DISTINCT `brand`) AS `num_unique_brands` FROM `laptops`;\u001b[0m\n",
      "SQLResult: \u001b[33;1m\u001b[1;3m[(5,)]\u001b[0m\n",
      "Answer:\u001b[32;1m\u001b[1;3m5\n",
      "Dell\n",
      "HP\n",
      "Lenovo\n",
      "Apple\n",
      "Asus\u001b[0m\n",
      "\u001b[1m> Finished chain.\u001b[0m\n",
      "{'query': 'How many unique brands are there? list them.do not surround SQL Query in quotes or anything else.', 'result': '5\\nDell\\nHP\\nLenovo\\nApple\\nAsus'}\n"
     ]
    }
   ],
   "source": [
    "result2 = db_chain.invoke(\"How many unique brands are there? list them.do not surround SQL Query in quotes or anything else.\")\n",
    "print(result2)"
   ]
  },
  {
   "cell_type": "code",
   "execution_count": 24,
   "id": "cdfee7a6",
   "metadata": {},
   "outputs": [
    {
     "name": "stdout",
     "output_type": "stream",
     "text": [
      "\n",
      "\n",
      "\u001b[1m> Entering new SQLDatabaseChain chain...\u001b[0m\n",
      "How much is the price of inventory for all Dell Laptops? do not surround SQL Query in quotes or anything else.\n",
      "SQLQuery:\u001b[32;1m\u001b[1;3mSELECT SUM(`price` * `stock_quantity`) AS `total_inventory_price`\n",
      "FROM `laptops`\n",
      "WHERE `brand` = 'Dell';\u001b[0m\n",
      "SQLResult: \u001b[33;1m\u001b[1;3m[(Decimal('788198'),)]\u001b[0m\n",
      "Answer:\u001b[32;1m\u001b[1;3m788198\u001b[0m\n",
      "\u001b[1m> Finished chain.\u001b[0m\n",
      "{'query': 'How much is the price of inventory for all Dell Laptops? do not surround SQL Query in quotes or anything else.', 'result': '788198'}\n"
     ]
    }
   ],
   "source": [
    "result3 = db_chain.invoke(\"How much is the price of inventory for all Dell Laptops? do not surround SQL Query in quotes or anything else.\")\n",
    "print(result3)"
   ]
  },
  {
   "cell_type": "code",
   "execution_count": 25,
   "id": "dbef813f",
   "metadata": {},
   "outputs": [
    {
     "name": "stdout",
     "output_type": "stream",
     "text": [
      "\n",
      "\n",
      "\u001b[1m> Entering new SQLDatabaseChain chain...\u001b[0m\n",
      "If I sell all my Apple laptops today with discounts applied, how much revenue our store will generate (post discounts)?do not surround SQL Query in quotes or anything else.\n",
      "SQLQuery:\u001b[32;1m\u001b[1;3mSELECT SUM(`laptops`.`price` * (1 - `laptop_discounts`.`pct_discount`)) AS `total_revenue`\n",
      "FROM `laptops`\n",
      "JOIN `laptop_discounts` ON `laptops`.`laptop_id` = `laptop_discounts`.`laptop_id`\n",
      "WHERE `laptops`.`brand` = 'Apple';\u001b[0m\n",
      "SQLResult: \u001b[33;1m\u001b[1;3m[(Decimal('-39237.00'),)]\u001b[0m\n",
      "Answer:\u001b[32;1m\u001b[1;3m-39237.00\u001b[0m\n",
      "\u001b[1m> Finished chain.\u001b[0m\n",
      "{'query': 'If I sell all my Apple laptops today with discounts applied, how much revenue our store will generate (post discounts)?do not surround SQL Query in quotes or anything else.', 'result': '-39237.00'}\n"
     ]
    }
   ],
   "source": [
    "result4 = db_chain.invoke(\"If I sell all my Apple laptops today with discounts applied, how much revenue our store will generate (post discounts)?do not surround SQL Query in quotes or anything else.\")\n",
    "print(result4) #FAILURE"
   ]
  },
  {
   "cell_type": "code",
   "execution_count": null,
   "id": "75dfc53d",
   "metadata": {},
   "outputs": [],
   "source": []
  },
  {
   "cell_type": "markdown",
   "id": "2723da66",
   "metadata": {},
   "source": [
    "# FEW SHOT LEARNING"
   ]
  },
  {
   "cell_type": "code",
   "execution_count": 5,
   "id": "4c7840dc",
   "metadata": {},
   "outputs": [
    {
     "data": {
      "text/plain": [
       "{'Question': 'How many Asus laptops with 8GB RAM and 512GB SSD are left in stock?',\n",
       " 'SQLQuery': \"SELECT sum(stock_quantity) FROM laptops WHERE brand = 'Asus' AND ram = '8GB' AND storage = '512GB SSD'\",\n",
       " 'SQLResult': 'Result of the SQL query',\n",
       " 'Answer': '95'}"
      ]
     },
     "execution_count": 5,
     "metadata": {},
     "output_type": "execute_result"
    }
   ],
   "source": [
    "from few_shots import few_shots_list\n",
    "few_shots_list[0]"
   ]
  },
  {
   "cell_type": "code",
   "execution_count": 6,
   "id": "f1420e50",
   "metadata": {},
   "outputs": [
    {
     "name": "stderr",
     "output_type": "stream",
     "text": [
      "/tmp/ipykernel_14312/860189823.py:2: LangChainDeprecationWarning: The class `HuggingFaceEmbeddings` was deprecated in LangChain 0.2.2 and will be removed in 1.0. An updated version of the class exists in the :class:`~langchain-huggingface package and should be used instead. To use it run `pip install -U :class:`~langchain-huggingface` and import as `from :class:`~langchain_huggingface import HuggingFaceEmbeddings``.\n",
      "  embeddings = HuggingFaceEmbeddings(model_name='sentence-transformers/all-MiniLM-L6-v2')\n",
      "/home/dipesh/Desktop/My github repos/ask-my-database-llm/llmvenv/lib/python3.12/site-packages/transformers/tokenization_utils_base.py:1617: FutureWarning: `clean_up_tokenization_spaces` was not set. It will be set to `True` by default. This behavior will be deprecated in transformers v4.45, and will be then set to `False` by default. For more details check this issue: https://github.com/huggingface/transformers/issues/31884\n",
      "  warnings.warn(\n"
     ]
    }
   ],
   "source": [
    "from langchain.embeddings import HuggingFaceEmbeddings\n",
    "embeddings = HuggingFaceEmbeddings(model_name='sentence-transformers/all-MiniLM-L6-v2')"
   ]
  },
  {
   "cell_type": "code",
   "execution_count": 7,
   "id": "b51acc48",
   "metadata": {},
   "outputs": [
    {
     "data": {
      "text/plain": [
       "\"How many Asus laptops with 8GB RAM and 512GB SSD are left in stock? SELECT sum(stock_quantity) FROM laptops WHERE brand = 'Asus' AND ram = '8GB' AND storage = '512GB SSD' Result of the SQL query 95\""
      ]
     },
     "execution_count": 7,
     "metadata": {},
     "output_type": "execute_result"
    }
   ],
   "source": [
    "to_vectorize = [\" \".join(i.values()) for i in few_shots_list]\n",
    "to_vectorize[0]"
   ]
  },
  {
   "cell_type": "code",
   "execution_count": 8,
   "id": "83d7842b",
   "metadata": {},
   "outputs": [],
   "source": [
    "from langchain.vectorstores import Chroma\n",
    "\n",
    "vectorstore = Chroma.from_texts(to_vectorize,embedding=embeddings,metadatas=few_shots_list)"
   ]
  },
  {
   "cell_type": "code",
   "execution_count": 9,
   "id": "040b0de0",
   "metadata": {},
   "outputs": [
    {
     "data": {
      "text/plain": [
       "[{'Answer': '556261',\n",
       "  'Question': 'How much revenue will the store generate if I sell all Apple laptops today without any discounts?',\n",
       "  'SQLQuery': \"SELECT SUM(price * stock_quantity) FROM laptops WHERE brand = 'Apple'\",\n",
       "  'SQLResult': 'Result of the SQL query'},\n",
       " {'Answer': '541648.6',\n",
       "  'Question': 'If I sell all my Apple laptops today with discounts applied, how much revenue our store will generate (post discounts)?',\n",
       "  'SQLQuery': \"SELECT sum(a.total_amount * ((100 - COALESCE(laptop_discounts.pct_discount, 0)) / 100)) as total_revenue \\n                     FROM (SELECT SUM(price * stock_quantity) as total_amount, laptop_id \\n                           FROM laptops WHERE brand = 'Apple' \\n                           GROUP BY laptop_id) a \\n                     LEFT JOIN laptop_discounts ON a.laptop_id = laptop_discounts.laptop_id\",\n",
       "  'SQLResult': 'Result of the SQL query'}]"
      ]
     },
     "execution_count": 9,
     "metadata": {},
     "output_type": "execute_result"
    }
   ],
   "source": [
    "from langchain.prompts import SemanticSimilarityExampleSelector\n",
    "\n",
    "example_selector = SemanticSimilarityExampleSelector(\n",
    "    vectorstore = vectorstore, k=2\n",
    ")\n",
    "example_selector.select_examples({\"Question\":\"How many Apple laptops I have in my store?\"})\n",
    "# gives similar looking queries"
   ]
  },
  {
   "cell_type": "code",
   "execution_count": 10,
   "id": "505a67db",
   "metadata": {},
   "outputs": [
    {
     "name": "stdout",
     "output_type": "stream",
     "text": [
      "You are a MySQL expert. Given an input question, first create a syntactically correct MySQL query to run, then look at the results of the query and return the answer to the input question.\n",
      "Unless the user specifies in the question a specific number of examples to obtain, query for at most {top_k} results using the LIMIT clause as per MySQL. You can order the results to return the most informative data in the database.\n",
      "Never query for all columns from a table. You must query only the columns that are needed to answer the question. Wrap each column name in backticks (`) to denote them as delimited identifiers.\n",
      "Pay attention to use only the column names you can see in the tables below. Be careful to not query for columns that do not exist. Also, pay attention to which column is in which table.\n",
      "Pay attention to use CURDATE() function to get the current date, if the question involves \"today\".\n",
      "\n",
      "Use the following format:\n",
      "\n",
      "Question: Question here\n",
      "SQLQuery: SQL Query to run\n",
      "SQLResult: Result of the SQLQuery\n",
      "Answer: Final answer here\n",
      "\n",
      "\n"
     ]
    }
   ],
   "source": [
    "from langchain.chains.sql_database.prompt import PROMPT_SUFFIX,_mysql_prompt\n",
    "print(_mysql_prompt)"
   ]
  },
  {
   "cell_type": "code",
   "execution_count": 11,
   "id": "a2c15342",
   "metadata": {},
   "outputs": [
    {
     "name": "stdout",
     "output_type": "stream",
     "text": [
      "Only use the following tables:\n",
      "{table_info}\n",
      "\n",
      "Question: {input}\n"
     ]
    }
   ],
   "source": [
    "print(PROMPT_SUFFIX)"
   ]
  },
  {
   "cell_type": "code",
   "execution_count": 12,
   "id": "0659d51b",
   "metadata": {},
   "outputs": [],
   "source": [
    "from langchain.prompts.prompt import PromptTemplate\n",
    "\n",
    "example_prompt = PromptTemplate(\n",
    "    input_variables=[\"Question\",\"SQLQuery\",\"SQLResult\",\"Answer\"],\n",
    "    template=\"\\nQuestion: {Question}\\nSQLQuery: {SQLQuery}\\nSQLResult: {SQLResult}\\nAnswer: {Answer}\"\n",
    ")"
   ]
  },
  {
   "cell_type": "code",
   "execution_count": 13,
   "id": "9d77e039",
   "metadata": {},
   "outputs": [],
   "source": [
    "from langchain.prompts import FewShotPromptTemplate\n",
    "\n",
    "few_shot_prompt = FewShotPromptTemplate(\n",
    "    example_selector=example_selector,\n",
    "    example_prompt=example_prompt,\n",
    "    prefix=_mysql_prompt,\n",
    "    suffix=PROMPT_SUFFIX,\n",
    "    input_variables=[\"input\",\"table_info\",\"top_k\"]\n",
    ")"
   ]
  },
  {
   "cell_type": "code",
   "execution_count": 14,
   "id": "0d585355",
   "metadata": {},
   "outputs": [],
   "source": [
    "new_chain = SQLDatabaseChain.from_llm(llm=llm,db=db,verbose=True, prompt=few_shot_prompt, return_intermediate_steps=True)"
   ]
  },
  {
   "cell_type": "code",
   "execution_count": 15,
   "id": "d16a45f6",
   "metadata": {},
   "outputs": [
    {
     "name": "stdout",
     "output_type": "stream",
     "text": [
      "\n",
      "\n",
      "\u001b[1m> Entering new SQLDatabaseChain chain...\u001b[0m\n",
      "How much is the price of inventory for all Asus laptops?\n",
      "SQLQuery:\u001b[32;1m\u001b[1;3mSELECT SUM(price * stock_quantity) AS total_inventory_price FROM laptops WHERE brand = 'Asus';\u001b[0m\n",
      "SQLResult: \u001b[33;1m\u001b[1;3m[(Decimal('1062553'),)]\u001b[0m\n",
      "Answer:\u001b[32;1m\u001b[1;3m1062553\u001b[0m\n",
      "\u001b[1m> Finished chain.\u001b[0m\n",
      "{'query': 'How much is the price of inventory for all Asus laptops?', 'result': '1062553', 'intermediate_steps': [{'input': 'How much is the price of inventory for all Asus laptops?\\nSQLQuery:', 'top_k': '5', 'dialect': 'mysql', 'table_info': \"\\nCREATE TABLE laptop_discounts (\\n\\tdiscount_id INTEGER NOT NULL AUTO_INCREMENT, \\n\\tlaptop_id INTEGER NOT NULL, \\n\\tpct_discount DECIMAL(5, 2), \\n\\tPRIMARY KEY (discount_id), \\n\\tCONSTRAINT laptop_discounts_ibfk_1 FOREIGN KEY(laptop_id) REFERENCES laptops (laptop_id), \\n\\tCONSTRAINT laptop_discounts_chk_1 CHECK ((`pct_discount` between 0 and 100))\\n)DEFAULT CHARSET=utf8mb4 ENGINE=InnoDB COLLATE utf8mb4_0900_ai_ci\\n\\n/*\\n3 rows from laptop_discounts table:\\ndiscount_id\\tlaptop_id\\tpct_discount\\n1\\t1\\t10.00\\n2\\t2\\t20.00\\n3\\t3\\t15.00\\n*/\\n\\n\\nCREATE TABLE laptops (\\n\\tlaptop_id INTEGER NOT NULL AUTO_INCREMENT, \\n\\tbrand ENUM('Dell','HP','Lenovo','Apple','Asus') NOT NULL, \\n\\tprocessor ENUM('i3','i5','i7','Ryzen 5','Ryzen 7') NOT NULL, \\n\\tram ENUM('4GB','8GB','16GB','32GB') NOT NULL, \\n\\tstorage ENUM('256GB SSD','512GB SSD','1TB SSD','1TB HDD') NOT NULL, \\n\\tprice INTEGER, \\n\\tstock_quantity INTEGER NOT NULL, \\n\\tPRIMARY KEY (laptop_id), \\n\\tCONSTRAINT laptops_chk_1 CHECK ((`price` between 300 and 2000))\\n)DEFAULT CHARSET=utf8mb4 ENGINE=InnoDB COLLATE utf8mb4_0900_ai_ci\\n\\n/*\\n3 rows from laptops table:\\nlaptop_id\\tbrand\\tprocessor\\tram\\tstorage\\tprice\\tstock_quantity\\n1\\tAsus\\ti5\\t8GB\\t512GB SSD\\t635\\t75\\n2\\tDell\\tRyzen 7\\t32GB\\t256GB SSD\\t324\\t84\\n3\\tDell\\tRyzen 5\\t16GB\\t512GB SSD\\t1185\\t42\\n*/\", 'stop': ['\\nSQLResult:']}, \"SELECT SUM(price * stock_quantity) AS total_inventory_price FROM laptops WHERE brand = 'Asus';\", {'sql_cmd': \"SELECT SUM(price * stock_quantity) AS total_inventory_price FROM laptops WHERE brand = 'Asus';\"}, \"[(Decimal('1062553'),)]\", {'input': \"How much is the price of inventory for all Asus laptops?\\nSQLQuery:SELECT SUM(price * stock_quantity) AS total_inventory_price FROM laptops WHERE brand = 'Asus';\\nSQLResult: [(Decimal('1062553'),)]\\nAnswer:\", 'top_k': '5', 'dialect': 'mysql', 'table_info': \"\\nCREATE TABLE laptop_discounts (\\n\\tdiscount_id INTEGER NOT NULL AUTO_INCREMENT, \\n\\tlaptop_id INTEGER NOT NULL, \\n\\tpct_discount DECIMAL(5, 2), \\n\\tPRIMARY KEY (discount_id), \\n\\tCONSTRAINT laptop_discounts_ibfk_1 FOREIGN KEY(laptop_id) REFERENCES laptops (laptop_id), \\n\\tCONSTRAINT laptop_discounts_chk_1 CHECK ((`pct_discount` between 0 and 100))\\n)DEFAULT CHARSET=utf8mb4 ENGINE=InnoDB COLLATE utf8mb4_0900_ai_ci\\n\\n/*\\n3 rows from laptop_discounts table:\\ndiscount_id\\tlaptop_id\\tpct_discount\\n1\\t1\\t10.00\\n2\\t2\\t20.00\\n3\\t3\\t15.00\\n*/\\n\\n\\nCREATE TABLE laptops (\\n\\tlaptop_id INTEGER NOT NULL AUTO_INCREMENT, \\n\\tbrand ENUM('Dell','HP','Lenovo','Apple','Asus') NOT NULL, \\n\\tprocessor ENUM('i3','i5','i7','Ryzen 5','Ryzen 7') NOT NULL, \\n\\tram ENUM('4GB','8GB','16GB','32GB') NOT NULL, \\n\\tstorage ENUM('256GB SSD','512GB SSD','1TB SSD','1TB HDD') NOT NULL, \\n\\tprice INTEGER, \\n\\tstock_quantity INTEGER NOT NULL, \\n\\tPRIMARY KEY (laptop_id), \\n\\tCONSTRAINT laptops_chk_1 CHECK ((`price` between 300 and 2000))\\n)DEFAULT CHARSET=utf8mb4 ENGINE=InnoDB COLLATE utf8mb4_0900_ai_ci\\n\\n/*\\n3 rows from laptops table:\\nlaptop_id\\tbrand\\tprocessor\\tram\\tstorage\\tprice\\tstock_quantity\\n1\\tAsus\\ti5\\t8GB\\t512GB SSD\\t635\\t75\\n2\\tDell\\tRyzen 7\\t32GB\\t256GB SSD\\t324\\t84\\n3\\tDell\\tRyzen 5\\t16GB\\t512GB SSD\\t1185\\t42\\n*/\", 'stop': ['\\nSQLResult:']}, '1062553']}\n"
     ]
    }
   ],
   "source": [
    "res = new_chain.invoke(\"How much is the price of inventory for all Asus laptops?\")\n",
    "print(res)"
   ]
  },
  {
   "cell_type": "code",
   "execution_count": 16,
   "id": "0565e390",
   "metadata": {},
   "outputs": [
    {
     "name": "stdout",
     "output_type": "stream",
     "text": [
      "\n",
      "\n",
      "\u001b[1m> Entering new SQLDatabaseChain chain...\u001b[0m\n",
      "If I sell all my Apple laptops today with discounts applied, how much revenue our store will generate (post discounts)?\n",
      "SQLQuery:\u001b[32;1m\u001b[1;3mSELECT sum(a.total_amount * ((100 - COALESCE(laptop_discounts.pct_discount, 0)) / 100)) as total_revenue \n",
      "                     FROM (SELECT SUM(price * stock_quantity) as total_amount, laptop_id \n",
      "                           FROM laptops WHERE brand = 'Apple' \n",
      "                           GROUP BY laptop_id) a \n",
      "                     LEFT JOIN laptop_discounts ON a.laptop_id = laptop_discounts.laptop_id\u001b[0m\n",
      "SQLResult: \u001b[33;1m\u001b[1;3m[(Decimal('541648.600000'),)]\u001b[0m\n",
      "Answer:\u001b[32;1m\u001b[1;3m541648.6\u001b[0m\n",
      "\u001b[1m> Finished chain.\u001b[0m\n"
     ]
    }
   ],
   "source": [
    "res2 = new_chain.invoke(\"If I sell all my Apple laptops today with discounts applied, how much revenue our store will generate (post discounts)?\")"
   ]
  },
  {
   "cell_type": "code",
   "execution_count": 32,
   "id": "9e392851",
   "metadata": {},
   "outputs": [
    {
     "name": "stdout",
     "output_type": "stream",
     "text": [
      "\n",
      "CREATE TABLE laptop_discounts (\n",
      "\tdiscount_id INTEGER NOT NULL AUTO_INCREMENT, \n",
      "\tlaptop_id INTEGER NOT NULL, \n",
      "\tpct_discount DECIMAL(5, 2), \n",
      "\tPRIMARY KEY (discount_id), \n",
      "\tCONSTRAINT laptop_discounts_ibfk_1 FOREIGN KEY(laptop_id) REFERENCES laptops (laptop_id), \n",
      "\tCONSTRAINT laptop_discounts_chk_1 CHECK ((`pct_discount` between 0 and 100))\n",
      ")DEFAULT CHARSET=utf8mb4 COLLATE utf8mb4_0900_ai_ci ENGINE=InnoDB\n",
      "\n",
      "/*\n",
      "3 rows from laptop_discounts table:\n",
      "discount_id\tlaptop_id\tpct_discount\n",
      "1\t1\t10.00\n",
      "2\t2\t20.00\n",
      "3\t3\t15.00\n",
      "*/\n",
      "\n",
      "\n",
      "CREATE TABLE laptops (\n",
      "\tlaptop_id INTEGER NOT NULL AUTO_INCREMENT, \n",
      "\tbrand ENUM('Dell','HP','Lenovo','Apple','Asus') NOT NULL, \n",
      "\tprocessor ENUM('i3','i5','i7','Ryzen 5','Ryzen 7') NOT NULL, \n",
      "\tram ENUM('4GB','8GB','16GB','32GB') NOT NULL, \n",
      "\tstorage ENUM('256GB SSD','512GB SSD','1TB SSD','1TB HDD') NOT NULL, \n",
      "\tprice INTEGER, \n",
      "\tstock_quantity INTEGER NOT NULL, \n",
      "\tPRIMARY KEY (laptop_id), \n",
      "\tCONSTRAINT laptops_chk_1 CHECK ((`price` between 300 and 2000))\n",
      ")DEFAULT CHARSET=utf8mb4 COLLATE utf8mb4_0900_ai_ci ENGINE=InnoDB\n",
      "\n",
      "/*\n",
      "3 rows from laptops table:\n",
      "laptop_id\tbrand\tprocessor\tram\tstorage\tprice\tstock_quantity\n",
      "1\tAsus\ti5\t8GB\t512GB SSD\t635\t75\n",
      "2\tDell\tRyzen 7\t32GB\t256GB SSD\t324\t84\n",
      "3\tDell\tRyzen 5\t16GB\t512GB SSD\t1185\t42\n",
      "*/\n"
     ]
    }
   ],
   "source": [
    "print(db.table_info)"
   ]
  },
  {
   "cell_type": "code",
   "execution_count": 19,
   "id": "086f83bf",
   "metadata": {},
   "outputs": [
    {
     "data": {
      "text/plain": [
       "[{'input': 'How much is the price of inventory for all Asus laptops?\\nSQLQuery:',\n",
       "  'top_k': '5',\n",
       "  'dialect': 'mysql',\n",
       "  'table_info': \"\\nCREATE TABLE laptop_discounts (\\n\\tdiscount_id INTEGER NOT NULL AUTO_INCREMENT, \\n\\tlaptop_id INTEGER NOT NULL, \\n\\tpct_discount DECIMAL(5, 2), \\n\\tPRIMARY KEY (discount_id), \\n\\tCONSTRAINT laptop_discounts_ibfk_1 FOREIGN KEY(laptop_id) REFERENCES laptops (laptop_id), \\n\\tCONSTRAINT laptop_discounts_chk_1 CHECK ((`pct_discount` between 0 and 100))\\n)DEFAULT CHARSET=utf8mb4 ENGINE=InnoDB COLLATE utf8mb4_0900_ai_ci\\n\\n/*\\n3 rows from laptop_discounts table:\\ndiscount_id\\tlaptop_id\\tpct_discount\\n1\\t1\\t10.00\\n2\\t2\\t20.00\\n3\\t3\\t15.00\\n*/\\n\\n\\nCREATE TABLE laptops (\\n\\tlaptop_id INTEGER NOT NULL AUTO_INCREMENT, \\n\\tbrand ENUM('Dell','HP','Lenovo','Apple','Asus') NOT NULL, \\n\\tprocessor ENUM('i3','i5','i7','Ryzen 5','Ryzen 7') NOT NULL, \\n\\tram ENUM('4GB','8GB','16GB','32GB') NOT NULL, \\n\\tstorage ENUM('256GB SSD','512GB SSD','1TB SSD','1TB HDD') NOT NULL, \\n\\tprice INTEGER, \\n\\tstock_quantity INTEGER NOT NULL, \\n\\tPRIMARY KEY (laptop_id), \\n\\tCONSTRAINT laptops_chk_1 CHECK ((`price` between 300 and 2000))\\n)DEFAULT CHARSET=utf8mb4 ENGINE=InnoDB COLLATE utf8mb4_0900_ai_ci\\n\\n/*\\n3 rows from laptops table:\\nlaptop_id\\tbrand\\tprocessor\\tram\\tstorage\\tprice\\tstock_quantity\\n1\\tAsus\\ti5\\t8GB\\t512GB SSD\\t635\\t75\\n2\\tDell\\tRyzen 7\\t32GB\\t256GB SSD\\t324\\t84\\n3\\tDell\\tRyzen 5\\t16GB\\t512GB SSD\\t1185\\t42\\n*/\",\n",
       "  'stop': ['\\nSQLResult:']},\n",
       " \"SELECT SUM(price * stock_quantity) AS total_inventory_price FROM laptops WHERE brand = 'Asus';\",\n",
       " {'sql_cmd': \"SELECT SUM(price * stock_quantity) AS total_inventory_price FROM laptops WHERE brand = 'Asus';\"},\n",
       " \"[(Decimal('1062553'),)]\",\n",
       " {'input': \"How much is the price of inventory for all Asus laptops?\\nSQLQuery:SELECT SUM(price * stock_quantity) AS total_inventory_price FROM laptops WHERE brand = 'Asus';\\nSQLResult: [(Decimal('1062553'),)]\\nAnswer:\",\n",
       "  'top_k': '5',\n",
       "  'dialect': 'mysql',\n",
       "  'table_info': \"\\nCREATE TABLE laptop_discounts (\\n\\tdiscount_id INTEGER NOT NULL AUTO_INCREMENT, \\n\\tlaptop_id INTEGER NOT NULL, \\n\\tpct_discount DECIMAL(5, 2), \\n\\tPRIMARY KEY (discount_id), \\n\\tCONSTRAINT laptop_discounts_ibfk_1 FOREIGN KEY(laptop_id) REFERENCES laptops (laptop_id), \\n\\tCONSTRAINT laptop_discounts_chk_1 CHECK ((`pct_discount` between 0 and 100))\\n)DEFAULT CHARSET=utf8mb4 ENGINE=InnoDB COLLATE utf8mb4_0900_ai_ci\\n\\n/*\\n3 rows from laptop_discounts table:\\ndiscount_id\\tlaptop_id\\tpct_discount\\n1\\t1\\t10.00\\n2\\t2\\t20.00\\n3\\t3\\t15.00\\n*/\\n\\n\\nCREATE TABLE laptops (\\n\\tlaptop_id INTEGER NOT NULL AUTO_INCREMENT, \\n\\tbrand ENUM('Dell','HP','Lenovo','Apple','Asus') NOT NULL, \\n\\tprocessor ENUM('i3','i5','i7','Ryzen 5','Ryzen 7') NOT NULL, \\n\\tram ENUM('4GB','8GB','16GB','32GB') NOT NULL, \\n\\tstorage ENUM('256GB SSD','512GB SSD','1TB SSD','1TB HDD') NOT NULL, \\n\\tprice INTEGER, \\n\\tstock_quantity INTEGER NOT NULL, \\n\\tPRIMARY KEY (laptop_id), \\n\\tCONSTRAINT laptops_chk_1 CHECK ((`price` between 300 and 2000))\\n)DEFAULT CHARSET=utf8mb4 ENGINE=InnoDB COLLATE utf8mb4_0900_ai_ci\\n\\n/*\\n3 rows from laptops table:\\nlaptop_id\\tbrand\\tprocessor\\tram\\tstorage\\tprice\\tstock_quantity\\n1\\tAsus\\ti5\\t8GB\\t512GB SSD\\t635\\t75\\n2\\tDell\\tRyzen 7\\t32GB\\t256GB SSD\\t324\\t84\\n3\\tDell\\tRyzen 5\\t16GB\\t512GB SSD\\t1185\\t42\\n*/\",\n",
       "  'stop': ['\\nSQLResult:']},\n",
       " '1062553']"
      ]
     },
     "execution_count": 19,
     "metadata": {},
     "output_type": "execute_result"
    }
   ],
   "source": [
    "intermediate_steps = res[\"intermediate_steps\"]  # This contains SQL queries and execution details\n",
    "intermediate_steps"
   ]
  },
  {
   "cell_type": "code",
   "execution_count": 20,
   "id": "e2a4e949",
   "metadata": {},
   "outputs": [],
   "source": [
    "sql_query = intermediate_steps[2]['sql_cmd'] if 'sql_cmd' in intermediate_steps[2] else intermediate_steps[1]"
   ]
  },
  {
   "cell_type": "code",
   "execution_count": 21,
   "id": "1455efef",
   "metadata": {},
   "outputs": [
    {
     "data": {
      "text/plain": [
       "\"SELECT SUM(price * stock_quantity) AS total_inventory_price FROM laptops WHERE brand = 'Asus';\""
      ]
     },
     "execution_count": 21,
     "metadata": {},
     "output_type": "execute_result"
    }
   ],
   "source": [
    "sql_query"
   ]
  },
  {
   "cell_type": "code",
   "execution_count": 26,
   "id": "e972813d",
   "metadata": {},
   "outputs": [
    {
     "name": "stdout",
     "output_type": "stream",
     "text": [
      "<class 'str'> [(Decimal('1062553'),)]\n"
     ]
    }
   ],
   "source": [
    "answer = intermediate_steps[3]\n",
    "print(type(answer),answer.to)"
   ]
  },
  {
   "cell_type": "code",
   "execution_count": 28,
   "id": "60fca146",
   "metadata": {},
   "outputs": [
    {
     "data": {
      "text/plain": [
       "'1062553'"
      ]
     },
     "execution_count": 28,
     "metadata": {},
     "output_type": "execute_result"
    }
   ],
   "source": [
    "res['result']"
   ]
  },
  {
   "cell_type": "code",
   "execution_count": null,
   "id": "d9c167dd",
   "metadata": {},
   "outputs": [],
   "source": []
  }
 ],
 "metadata": {
  "kernelspec": {
   "display_name": "Python 3 (ipykernel)",
   "language": "python",
   "name": "python3"
  },
  "language_info": {
   "codemirror_mode": {
    "name": "ipython",
    "version": 3
   },
   "file_extension": ".py",
   "mimetype": "text/x-python",
   "name": "python",
   "nbconvert_exporter": "python",
   "pygments_lexer": "ipython3",
   "version": "3.12.4"
  }
 },
 "nbformat": 4,
 "nbformat_minor": 5
}
